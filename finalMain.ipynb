{
 "cells": [
  {
   "attachments": {},
   "cell_type": "markdown",
   "metadata": {},
   "source": [
    "# Linear Regression"
   ]
  },
  {
   "attachments": {},
   "cell_type": "markdown",
   "metadata": {},
   "source": [
    "This Jupyer notebook goes over the different functions made to create the Regression project. I cover items such as creating data, cost functions, loss functions, and gradient descent."
   ]
  },
  {
   "attachments": {},
   "cell_type": "markdown",
   "metadata": {},
   "source": [
    "### Imports"
   ]
  },
  {
   "attachments": {},
   "cell_type": "markdown",
   "metadata": {},
   "source": [
    "For the imports I am using three, Numpy, Pandas, and Matplotlib"
   ]
  },
  {
   "cell_type": "code",
   "execution_count": 2,
   "metadata": {},
   "outputs": [],
   "source": [
    "import numpy as np\n",
    "import pandas as pd\n",
    "import matplotlib.pyplot as plt"
   ]
  },
  {
   "attachments": {},
   "cell_type": "markdown",
   "metadata": {},
   "source": [
    "### Data"
   ]
  },
  {
   "attachments": {},
   "cell_type": "markdown",
   "metadata": {},
   "source": [
    "The first step is to generate the linear data. For this I am using the Numpy Linspace to generate an integer array from 0 to 15, this array is then saved as <b><i>x</i></b>. For my <b><i>y</i></b> I am using the array <b><i>x</i></b> and multiypling it by 2 and adding 1 to get a linear line. \n",
    "\n",
    "Lastly, I am plotting the data in a scatter plot."
   ]
  },
  {
   "cell_type": "code",
   "execution_count": 3,
   "metadata": {},
   "outputs": [],
   "source": [
    "x = np.linspace(0, 15, 15)\n",
    "y = 2 * x + 1    "
   ]
  },
  {
   "cell_type": "code",
   "execution_count": 4,
   "metadata": {},
   "outputs": [
    {
     "data": {
      "image/png": "[encoded data removed]",
      "text/plain": [
       "<Figure size 640x480 with 1 Axes>"
      ]
     },
     "metadata": {},
     "output_type": "display_data"
    }
   ],
   "source": [
    "plt.scatter(x,y)\n",
    "plt.show()"
   ]
  },
  {
   "attachments": {},
   "cell_type": "markdown",
   "metadata": {},
   "source": [
    "This is perfect for our linear model, however it is too perfect. I am adding noise to the data using Numpy Random. This is making an array of length <b><i>y</i></b> with random variables with a 2.5 standard deviation.\n",
    "\n",
    "I am then adding that noise to <b><i>y</i></b> to create a more realistic dataset. Then plotting it with a scatter plot."
   ]
  },
  {
   "cell_type": "code",
   "execution_count": 5,
   "metadata": {},
   "outputs": [
    {
     "data": {
      "image/png": "[encoded data removed]",
      "text/plain": [
       "<Figure size 640x480 with 1 Axes>"
      ]
     },
     "metadata": {},
     "output_type": "display_data"
    }
   ],
   "source": [
    "noise = np.random.normal(0, 2.5, len(y)) \n",
    "y = y + noise\n",
    "plt.scatter(x,y)\n",
    "plt.show()"
   ]
  },
  {
   "attachments": {},
   "cell_type": "markdown",
   "metadata": {},
   "source": [
    "### Cost Function"
   ]
  },
  {
   "attachments": {},
   "cell_type": "markdown",
   "metadata": {},
   "source": [
    "$$\n",
    "\\text{The cost function is:} \\\\\n",
    "J(w,b) = \\frac{1}{2m} \\sum_{i=0}^{m-1} (f_{w,b}(x^{(i)}) - y^{(i)})^2\n",
    "$$\n",
    "\n",
    "\n",
    "$$\n",
    "\\text{where,} \\\\\n",
    "f_{w,b}(x^{(i)}) = wx^{(i)} + b\n",
    "$$\n",
    "\n",
    "Using the cost function I can calculate the difference of my predicted <b><i>y</i></b> and my actual <b><i>y</i></b>\n"
   ]
  },
  {
   "cell_type": "code",
   "execution_count": 7,
   "metadata": {},
   "outputs": [],
   "source": [
    "def compute_cost(x,y,w, b):\n",
    "    f_wb = w * x + b\n",
    "\n",
    "    m = len(x)\n",
    "    cost = (f_wb - y) ** 2        \n",
    "    j_wb = (1/(2 * m)) * np.sum(cost)\n",
    "\n",
    "    return j_wb"
   ]
  },
  {
   "attachments": {},
   "cell_type": "markdown",
   "metadata": {},
   "source": [
    "Below is the cost of my data using 1 for the w and b parameters"
   ]
  },
  {
   "cell_type": "code",
   "execution_count": 13,
   "metadata": {},
   "outputs": [
    {
     "name": "stdout",
     "output_type": "stream",
     "text": [
      "43.66646228078785\n"
     ]
    }
   ],
   "source": [
    "print(compute_cost(x,y,1,1))"
   ]
  },
  {
   "attachments": {},
   "cell_type": "markdown",
   "metadata": {},
   "source": [
    "### Gradient Function"
   ]
  },
  {
   "attachments": {},
   "cell_type": "markdown",
   "metadata": {},
   "source": [
    "The gradient is defined as:\n",
    "$$\n",
    "\\begin{align}\n",
    "\\frac{\\partial J(w,b)}{\\partial w}  &= \\frac{1}{m} \\sum\\limits_{i = 0}^{m-1} (f_{w,b}(x^{(i)}) - y^{(i)})x^{(i)} \\tag{4}\\\\\n",
    "  \\frac{\\partial J(w,b)}{\\partial b}  &= \\frac{1}{m} \\sum\\limits_{i = 0}^{m-1} (f_{w,b}(x^{(i)}) - y^{(i)}) \\tag{5}\\\\\n",
    "\\end{align}\n",
    "$$\n"
   ]
  },
  {
   "cell_type": "code",
   "execution_count": 14,
   "metadata": {},
   "outputs": [],
   "source": [
    "def compute_gradient(x,y,w,b):\n",
    "    m = len(x)\n",
    "    f_wb = w * x + b\n",
    "    dj_dw = (np.sum((f_wb - y) * x)) / m\n",
    "    dj_db = (np.sum(f_wb - y)) / m\n",
    "\n",
    "    return dj_dw, dj_db"
   ]
  },
  {
   "attachments": {},
   "cell_type": "markdown",
   "metadata": {},
   "source": [
    "Below is the cost of my data using 1 for the w and b parameters"
   ]
  },
  {
   "cell_type": "code",
   "execution_count": 12,
   "metadata": {},
   "outputs": [
    {
     "name": "stdout",
     "output_type": "stream",
     "text": [
      "(-79.40509241322225, -7.459460383048527)\n"
     ]
    }
   ],
   "source": [
    "print(compute_gradient(x,y,1,1))"
   ]
  },
  {
   "attachments": {},
   "cell_type": "markdown",
   "metadata": {},
   "source": [
    "### Gradient Function"
   ]
  },
  {
   "attachments": {},
   "cell_type": "markdown",
   "metadata": {},
   "source": [
    "Gradient descent is described as:\n",
    "\n",
    "$$\\begin{align*} \\text{repeat}&\\text{ until convergence:} \\; \\lbrace \\newline\n",
    "\\;  w &= w -  \\alpha \\frac{\\partial J(w,b)}{\\partial w} \\tag{3}  \\; \\newline \n",
    " b &= b -  \\alpha \\frac{\\partial J(w,b)}{\\partial b}  \\newline \\rbrace\n",
    "\\end{align*}$$\n",
    "$$\n"
   ]
  },
  {
   "cell_type": "code",
   "execution_count": 15,
   "metadata": {},
   "outputs": [],
   "source": [
    "def compute_gradient_descent(x,y,w_in,b_in,alpha,num_iters,compute_cost,compute_gradient):\n",
    "    J_history = []\n",
    "    p_history = []\n",
    "\n",
    "    alpha = alpha\n",
    "    num_iters = num_iters\n",
    "    w = w_in\n",
    "    b = b_in\n",
    "\n",
    "    for i in range(num_iters):\n",
    "        dj_dw, dj_db = compute_gradient(x,y,w,b)\n",
    "        w = w - alpha * dj_dw\n",
    "        b = b - alpha * dj_db\n",
    "\n",
    "        if i < 10000:\n",
    "            J_history.append( compute_cost(x,y,w,b))\n",
    "            p_history.append([w,b])\n",
    "    return w, b, J_history, p_history"
   ]
  },
  {
   "attachments": {},
   "cell_type": "markdown",
   "metadata": {},
   "source": [
    "I can use the gradient descent on my data and use that to create a prediction line"
   ]
  },
  {
   "cell_type": "code",
   "execution_count": 22,
   "metadata": {},
   "outputs": [
    {
     "data": {
      "image/png": "[encoded data removed]",
      "text/plain": [
       "<Figure size 640x480 with 1 Axes>"
      ]
     },
     "metadata": {},
     "output_type": "display_data"
    }
   ],
   "source": [
    "w_final, b_final, J_hist, p_hist = compute_gradient_descent(x ,y, 0, 0, 1.0e-2,1000, compute_cost, compute_gradient)\n",
    "\n",
    "new_x = np.linspace(0, 15, 15)\n",
    "new_y = w_final * x + b_final\n",
    "\n",
    "fig = plt.figure()\n",
    "plt.scatter(x, y)\n",
    "plt.plot(new_x,new_y, linestyle = 'dotted',color='C1')\n",
    "plt.show()"
   ]
  },
  {
   "cell_type": "code",
   "execution_count": null,
   "metadata": {},
   "outputs": [],
   "source": []
  }
 ],
 "metadata": {
  "kernelspec": {
   "display_name": ".venv",
   "language": "python",
   "name": "python3"
  },
  "language_info": {
   "codemirror_mode": {
    "name": "ipython",
    "version": 3
   },
   "file_extension": ".py",
   "mimetype": "text/x-python",
   "name": "python",
   "nbconvert_exporter": "python",
   "pygments_lexer": "ipython3",
   "version": "3.10.6"
  },
  "orig_nbformat": 4
 },
 "nbformat": 4,
 "nbformat_minor": 2
}
