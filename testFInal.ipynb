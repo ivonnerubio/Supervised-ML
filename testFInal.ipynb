{
 "cells": [
  {
   "cell_type": "code",
   "execution_count": 64,
   "metadata": {},
   "outputs": [],
   "source": [
    "import numpy as np\n",
    "import pandas as pd\n",
    "import matplotlib.pyplot as plt\n",
    "import random\n",
    "import streamlit as st\n",
    "import math"
   ]
  },
  {
   "cell_type": "code",
   "execution_count": 116,
   "metadata": {},
   "outputs": [],
   "source": [
    "\n",
    "# Data Formation\n",
    "def generate_linear_data():\n",
    "    x = np.linspace(0, 15, 15)\n",
    "    y = 2 * x + 1    \n",
    "    noise = np.random.normal(0, 7, len(y)) \n",
    "    y = y + noise\n",
    "    return x,y\n",
    "\n",
    "# Cost Function\n",
    "def compute_cost(x,y,w, b):\n",
    "    f_wb = w * x + b\n",
    "\n",
    "    m = len(x)\n",
    "    cost = (f_wb - y) ** 2        \n",
    "    j_wb = (1/(2 * m)) * np.sum(cost)\n",
    "\n",
    "    return j_wb\n",
    "\n",
    "\n",
    "\n",
    "# Gradient Function\n",
    "def compute_gradient(x,y,w,b):\n",
    "    m = len(x)\n",
    "    f_wb = w * x + b\n",
    "    dj_dw = (np.sum((f_wb - y) * x)) / m\n",
    "    dj_db = (np.sum(f_wb - y)) / m\n",
    "\n",
    "    return dj_dw, dj_db\n",
    "\n",
    "\n",
    "def compute_gradient_descent(x,y,w_in,b_in,alpha,num_iters,compute_cost,compute_gradient):\n",
    "    J_history = []\n",
    "    p_history = []\n",
    "\n",
    "    alpha = alpha\n",
    "    num_iters = num_iters\n",
    "    w = w_in\n",
    "    b = b_in\n",
    "\n",
    "    for i in range(num_iters):\n",
    "        dj_dw, dj_db = compute_gradient(x,y,w,b)\n",
    "        w = w - alpha * dj_dw\n",
    "        b = b - alpha * dj_db\n",
    "\n",
    "        if i < 10000:\n",
    "            J_history.append( compute_cost(x,y,w,b))\n",
    "            p_history.append([w,b])\n",
    "        if i% math.ceil(num_iters/10) == 0:\n",
    "                print(f\"Iteration {i:4}: Cost {J_history[-1]:0.2e} \",\n",
    "                    f\"dj_dw: {dj_dw: 0.3e}, dj_db: {dj_db: 0.3e}  \",\n",
    "                    f\"w: {w: 0.3e}, b:{b: 0.5e}\")\n",
    "        \n",
    "    return w, b, J_history, p_history\n",
    "\n",
    "\n",
    "\n"
   ]
  },
  {
   "cell_type": "code",
   "execution_count": 89,
   "metadata": {},
   "outputs": [
    {
     "name": "stdout",
     "output_type": "stream",
     "text": [
      "Iteration    0: Cost 8.09e+00  dj_dw: -1.602e+02, dj_db: -1.576e+01   w:  1.602e+00, b: 1.57620e-01\n",
      "Iteration    1: Cost 7.43e-01  dj_dw: -3.457e+01, dj_db: -3.591e+00   w:  1.947e+00, b: 1.93532e-01\n",
      "Iteration    2: Cost 4.00e-01  dj_dw: -7.448e+00, dj_db: -9.624e-01   w:  2.022e+00, b: 2.03157e-01\n",
      "Iteration    3: Cost 3.83e-01  dj_dw: -1.590e+00, dj_db: -3.942e-01   w:  2.038e+00, b: 2.07099e-01\n",
      "Iteration    4: Cost 3.82e-01  dj_dw: -3.254e-01, dj_db: -2.710e-01   w:  2.041e+00, b: 2.09809e-01\n",
      "Iteration    5: Cost 3.81e-01  dj_dw: -5.230e-02, dj_db: -2.439e-01   w:  2.042e+00, b: 2.12248e-01\n",
      "Iteration    6: Cost 3.81e-01  dj_dw:  6.618e-03, dj_db: -2.375e-01   w:  2.042e+00, b: 2.14624e-01\n",
      "Iteration    7: Cost 3.80e-01  dj_dw:  1.929e-02, dj_db: -2.357e-01   w:  2.041e+00, b: 2.16980e-01\n",
      "Iteration    8: Cost 3.79e-01  dj_dw:  2.198e-02, dj_db: -2.348e-01   w:  2.041e+00, b: 2.19328e-01\n",
      "Iteration    9: Cost 3.79e-01  dj_dw:  2.251e-02, dj_db: -2.341e-01   w:  2.041e+00, b: 2.21669e-01\n"
     ]
    },
    {
     "data": {
      "text/plain": [
       "(2.0409283040217896,\n",
       " 0.2216685445780495,\n",
       " [8.087738520588477,\n",
       "  0.7426757771424747,\n",
       "  0.3996047896049872,\n",
       "  0.38306243939730533,\n",
       "  0.38175015030943527,\n",
       "  0.381151040901221,\n",
       "  0.38058812565295447,\n",
       "  0.38002981849964157,\n",
       "  0.37947463053977926,\n",
       "  0.37892247648751576],\n",
       " [[1.6017632927694532, 0.15762038801803802],\n",
       "  [1.9474782129469963, 0.19353232519818667],\n",
       "  [2.021953326626687, 0.2031565239932181],\n",
       "  [2.037855421020562, 0.2070988472743224],\n",
       "  [2.041109321415969, 0.20980909024307504],\n",
       "  [2.0416323702458588, 0.21224818825248465],\n",
       "  [2.0415661898661104, 0.21462366661955842],\n",
       "  [2.041373256582386, 0.21698035373144256],\n",
       "  [2.0411534395838777, 0.21932794396848718],\n",
       "  [2.0409283040217896, 0.2216685445780495]])"
      ]
     },
     "execution_count": 89,
     "metadata": {},
     "output_type": "execute_result"
    },
    {
     "data": {
      "image/png": "[encoded data removed]",
      "text/plain": [
       "<Figure size 640x480 with 1 Axes>"
      ]
     },
     "metadata": {},
     "output_type": "display_data"
    }
   ],
   "source": [
    "x,y = generate_linear_data()\n",
    "plt.scatter(x,y)\n",
    "\n",
    "compute_gradient_descent(x,y,0,0,1.0e-2,10,compute_cost,compute_gradient)"
   ]
  },
  {
   "cell_type": "code",
   "execution_count": 90,
   "metadata": {},
   "outputs": [
    {
     "name": "stdout",
     "output_type": "stream",
     "text": [
      "Iteration    0: Cost 8.09e+00  dj_dw: -1.602e+02, dj_db: -1.576e+01   w:  1.602e+00, b: 1.57620e-01\n",
      "Iteration  100: Cost 3.39e-01  dj_dw:  1.768e-02, dj_db: -1.824e-01   w:  2.023e+00, b: 4.09941e-01\n",
      "Iteration  200: Cost 3.14e-01  dj_dw:  1.345e-02, dj_db: -1.388e-01   w:  2.007e+00, b: 5.69334e-01\n",
      "Iteration  300: Cost 2.99e-01  dj_dw:  1.023e-02, dj_db: -1.055e-01   w:  1.995e+00, b: 6.90564e-01\n",
      "Iteration  400: Cost 2.90e-01  dj_dw:  7.778e-03, dj_db: -8.027e-02   w:  1.987e+00, b: 7.82769e-01\n",
      "Iteration  500: Cost 2.85e-01  dj_dw:  5.916e-03, dj_db: -6.105e-02   w:  1.980e+00, b: 8.52898e-01\n",
      "Iteration  600: Cost 2.82e-01  dj_dw:  4.499e-03, dj_db: -4.644e-02   w:  1.975e+00, b: 9.06236e-01\n",
      "Iteration  700: Cost 2.81e-01  dj_dw:  3.422e-03, dj_db: -3.532e-02   w:  1.971e+00, b: 9.46804e-01\n",
      "Iteration  800: Cost 2.80e-01  dj_dw:  2.603e-03, dj_db: -2.686e-02   w:  1.968e+00, b: 9.77659e-01\n",
      "Iteration  900: Cost 2.79e-01  dj_dw:  1.980e-03, dj_db: -2.043e-02   w:  1.965e+00, b: 1.00113e+00\n",
      "(w,b) found by gradient descent: (  1.9637,  1.0188)\n"
     ]
    }
   ],
   "source": [
    "# initialize parameters\n",
    "w_init = 0\n",
    "b_init = 0\n",
    "# some gradient descent settings\n",
    "iterations = 1000\n",
    "tmp_alpha = 1.0e-2\n",
    "# run gradient descent\n",
    "w_final, b_final, J_hist, p_hist = compute_gradient_descent(x ,y, w_init, b_init, tmp_alpha, \n",
    "                                                    iterations, compute_cost, compute_gradient)\n",
    "print(f\"(w,b) found by gradient descent: ({w_final:8.4f},{b_final:8.4f})\")\n"
   ]
  },
  {
   "cell_type": "code",
   "execution_count": null,
   "metadata": {},
   "outputs": [],
   "source": []
  },
  {
   "cell_type": "code",
   "execution_count": 91,
   "metadata": {},
   "outputs": [],
   "source": []
  },
  {
   "cell_type": "code",
   "execution_count": 122,
   "metadata": {},
   "outputs": [
    {
     "name": "stdout",
     "output_type": "stream",
     "text": [
      "Iteration    0: Cost 3.24e+01  dj_dw: -1.556e+02, dj_db: -1.504e+01   w:  1.556e+00, b: 1.50375e-01\n",
      "Iteration  100: Cost 2.52e+01  dj_dw: -2.712e-03, dj_db:  2.799e-02   w:  1.987e+00, b: 1.59739e-01\n",
      "Iteration  200: Cost 2.52e+01  dj_dw: -2.063e-03, dj_db:  2.129e-02   w:  1.990e+00, b: 1.35283e-01\n",
      "Iteration  300: Cost 2.52e+01  dj_dw: -1.569e-03, dj_db:  1.619e-02   w:  1.992e+00, b: 1.16683e-01\n",
      "Iteration  400: Cost 2.52e+01  dj_dw: -1.193e-03, dj_db:  1.232e-02   w:  1.993e+00, b: 1.02536e-01\n",
      "Iteration  500: Cost 2.52e+01  dj_dw: -9.076e-04, dj_db:  9.367e-03   w:  1.994e+00, b: 9.17757e-02\n",
      "Iteration  600: Cost 2.52e+01  dj_dw: -6.903e-04, dj_db:  7.125e-03   w:  1.995e+00, b: 8.35920e-02\n",
      "Iteration  700: Cost 2.52e+01  dj_dw: -5.250e-04, dj_db:  5.419e-03   w:  1.995e+00, b: 7.73677e-02\n",
      "Iteration  800: Cost 2.52e+01  dj_dw: -3.993e-04, dj_db:  4.121e-03   w:  1.996e+00, b: 7.26336e-02\n",
      "Iteration  900: Cost 2.52e+01  dj_dw: -3.037e-04, dj_db:  3.135e-03   w:  1.996e+00, b: 6.90329e-02\n"
     ]
    },
    {
     "data": {
      "text/plain": [
       "<matplotlib.collections.PathCollection at 0x11ff88ca0>"
      ]
     },
     "execution_count": 122,
     "metadata": {},
     "output_type": "execute_result"
    },
    {
     "data": {
      "image/png": "[encoded data removed]",
      "text/plain": [
       "<Figure size 640x480 with 1 Axes>"
      ]
     },
     "metadata": {},
     "output_type": "display_data"
    }
   ],
   "source": [
    "x,y = generate_linear_data()\n",
    "w_final, b_final, J_hist, p_hist = compute_gradient_descent(x ,y, w_init, b_init, tmp_alpha, iterations, compute_cost, compute_gradient)\n",
    "new_x = np.linspace(0, 15, 15)\n",
    "new_y = w_final * x + b_final\n",
    "plt.plot(new_x,new_y, linestyle = 'dotted',color='C1' )\n",
    "plt.scatter(x,y)"
   ]
  },
  {
   "cell_type": "code",
   "execution_count": null,
   "metadata": {},
   "outputs": [],
   "source": []
  },
  {
   "cell_type": "code",
   "execution_count": null,
   "metadata": {},
   "outputs": [],
   "source": []
  }
 ],
 "metadata": {
  "kernelspec": {
   "display_name": ".venv",
   "language": "python",
   "name": "python3"
  },
  "language_info": {
   "codemirror_mode": {
    "name": "ipython",
    "version": 3
   },
   "file_extension": ".py",
   "mimetype": "text/x-python",
   "name": "python",
   "nbconvert_exporter": "python",
   "pygments_lexer": "ipython3",
   "version": "3.10.6"
  },
  "orig_nbformat": 4
 },
 "nbformat": 4,
 "nbformat_minor": 2
}
